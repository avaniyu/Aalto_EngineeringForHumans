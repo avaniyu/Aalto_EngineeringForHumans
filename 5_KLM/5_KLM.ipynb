{
 "cells": [
  {
   "cell_type": "code",
   "execution_count": 24,
   "metadata": {
    "scrolled": true
   },
   "outputs": [
    {
     "data": {
      "application/vnd.jupyter.widget-view+json": {
       "model_id": "98835bf1f59d48a0a8099d860d33ebba"
      }
     },
     "metadata": {},
     "output_type": "display_data"
    },
    {
     "name": "stdout",
     "output_type": "stream",
     "text": [
      "AddPas\n",
      "AddPas\n"
     ]
    }
   ],
   "source": [
    "from __future__ import print_function\n",
    "from ipywidgets import *\n",
    "from IPython.display import display\n",
    "\n",
    "#define operators\n",
    "glb_K = \"global\"\n",
    "glb_P = \"global\"\n",
    "glb_H = \"global\"\n",
    "glb_D = \"global\"\n",
    "glb_M = \"global\"\n",
    "glb_K = 0\n",
    "glb_P = 0\n",
    "glb_H = 0\n",
    "glb_D = 0\n",
    "glb_M = 0\n",
    "#parameters value from Wikipedia\n",
    "K_time = 0.1\n",
    "P_time = 1.1\n",
    "H_time = 0.4\n",
    "D_time = 0\n",
    "M_time = 1.35\n",
    "\n",
    "#define reusable buttons\n",
    "button3 = Button(description='3',\n",
    "           layout=Layout(width='100%', height='50px'))\n",
    "buttonL = Button(description='L',\n",
    "           layout=button3.layout)\n",
    "button2 = Button(description='2',\n",
    "           layout=button3.layout)\n",
    "button1 = Button(description='1',\n",
    "           layout=button3.layout)\n",
    "buttonAddPas = Button(description='+ passenger',\n",
    "           layout=Layout(width='70px', height='40px'))\n",
    "buttonOK = Button(description='OK',\n",
    "           layout=Layout(width='70px', height='70px'))\n",
    "\n",
    "#operator value display settings\n",
    "operatorValue = Text(\n",
    "    value='K=0.1',\n",
    "    description='Operator Value:',\n",
    "    disabled=False\n",
    ")\n",
    "\n",
    "#UI display settings\n",
    "itemsStart0 = [\n",
    "    button3,\n",
    "    buttonL,\n",
    "    button2,\n",
    "    button1,\n",
    "]\n",
    "layoutStart0 = Layout(\n",
    "    display='flex',\n",
    "    flex_flow='column',\n",
    "    align_items='flex-start',\n",
    "    width='100%'\n",
    ")\n",
    "itemsStart1 = [\n",
    "    buttonAddPas,\n",
    "    buttonOK\n",
    "]\n",
    "layoutStart1 = Layout(\n",
    "    display='flex',\n",
    "    flex_flow='column',\n",
    "    align_items='flex-end',\n",
    "    justify_content='space-between'\n",
    ")\n",
    "uiStart0 = Box(itemsStart0, layout=layoutStart0)\n",
    "uiStart1 = Box(itemsStart1, layout=layoutStart1)\n",
    "itemsStart = [\n",
    "    uiStart0,\n",
    "    uiStart1\n",
    "]\n",
    "layoutStart = Layout(\n",
    "    display='flex',\n",
    "    flex_flow='row',\n",
    "    border='solid',\n",
    "    align_items='stretch',\n",
    "    justify_content='space-between',\n",
    "    align_content='space-around',\n",
    "    width='100%'\n",
    ")\n",
    "#initiative UI\n",
    "ui = Box(itemsStart, layout=layoutStart)\n",
    "\n",
    "#register handle event for each keystroke\n",
    "def onButtonZoneClicked(b):\n",
    "    print('K')\n",
    "    return;\n",
    "def onButtonAddPasClicked(b):\n",
    "    ui = Box(itemsStart1, layout=layoutStart1)\n",
    "    print('AddPas')\n",
    "    return;\n",
    "def onButtonOKClicked(b):\n",
    "    print('K')\n",
    "    return;\n",
    "\n",
    "button3.on_click(onButtonZoneClicked)\n",
    "buttonL.on_click(onButtonZoneClicked)\n",
    "button2.on_click(onButtonZoneClicked)\n",
    "button1.on_click(onButtonZoneClicked)\n",
    "buttonAddPas.on_click(onButtonAddPasClicked)\n",
    "buttonOK.on_click(onButtonOKClicked)\n",
    "\n",
    "#display operator values and UI\n",
    "layoutAll = Layout(\n",
    "    display='flex',\n",
    "    flex_flow='row',\n",
    "    align_items='stretch',\n",
    "    justify_content='space-between',\n",
    "    width='70%'\n",
    ")\n",
    "itemsAll = [\n",
    "    operatorValue,\n",
    "    ui\n",
    "]\n",
    "overall = Box(itemsAll, layout=layoutAll)\n",
    "display(overall)\n"
   ]
  },
  {
   "cell_type": "code",
   "execution_count": null,
   "metadata": {
    "collapsed": true
   },
   "outputs": [],
   "source": [
    "#display number of operators and task completion time\n"
   ]
  }
 ],
 "metadata": {
  "kernelspec": {
   "display_name": "Python 3",
   "language": "python",
   "name": "python3"
  },
  "language_info": {
   "codemirror_mode": {
    "name": "ipython",
    "version": 3
   },
   "file_extension": ".py",
   "mimetype": "text/x-python",
   "name": "python",
   "nbconvert_exporter": "python",
   "pygments_lexer": "ipython3",
   "version": "3.6.0"
  }
 },
 "nbformat": 4,
 "nbformat_minor": 2
}
