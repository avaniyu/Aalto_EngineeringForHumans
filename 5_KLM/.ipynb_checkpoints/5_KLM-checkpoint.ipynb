{
 "cells": [
  {
   "cell_type": "code",
   "execution_count": 1,
   "metadata": {},
   "outputs": [
    {
     "data": {
      "application/vnd.jupyter.widget-view+json": {
       "model_id": "f641bf4050cc40be8b680341549c92d8"
      }
     },
     "metadata": {},
     "output_type": "display_data"
    }
   ],
   "source": [
    "from __future__ import print_function\n",
    "from ipywidgets import *\n",
    "\n",
    "#define operators\n",
    "glb_K = \"global\"\n",
    "glb_P = \"global\"\n",
    "glb_H = \"global\"\n",
    "glb_D = \"global\"\n",
    "glb_M = \"global\"\n",
    "glb_K = 0\n",
    "glb_P = 0\n",
    "glb_H = 0\n",
    "glb_D = 0\n",
    "glb_M = 0\n",
    "#parameters value from Wikipedia\n",
    "K_time = 0.1\n",
    "P_time = 1.1\n",
    "H_time = 0.4\n",
    "D_time = 0\n",
    "M_time = 1.35\n",
    "\n",
    "#define reusable buttons\n",
    "button3 = Button(description='3',\n",
    "           layout=Layout(width='30%', height='50px'))\n",
    "buttonL = Button(description='L',\n",
    "           layout=button3.layout)\n",
    "button2 = Button(description='2',\n",
    "           layout=button3.layout)\n",
    "button1 = Button(description='1',\n",
    "           layout=button3.layout)\n",
    "buttonAddPas = Button(description='+ passenger',\n",
    "           layout=Layout(width='20%', height='40px'))\n",
    "buttonOK = Button(description='OK',\n",
    "           layout=Layout(width='50px', height='50px'))\n",
    "\n",
    "#display operator values in the left side\n",
    "boxOperatorValue = Text(\n",
    "    value='K=\\nP=\\n',    \n",
    "    width='10%',\n",
    "    disabled=False\n",
    ")\n",
    "\n",
    "#display UI in the right side\n",
    "uiItems = [\n",
    "    button3,\n",
    "    buttonL,\n",
    "    button2,\n",
    "    button1\n",
    "]\n",
    "\n",
    "uiItemLayout = Layout(\n",
    "    display='flex',\n",
    "    flex_flow='row',\n",
    "    justify_content='space-between'\n",
    ")\n",
    "\n",
    "uiLayout = Layout(\n",
    "    display='flex',\n",
    "    flex_flow='column',\n",
    "    border='solid 1px',\n",
    "    align_items='stretch',\n",
    "    width='50%'\n",
    ")\n",
    "\n",
    "form = Box(uiItems, layout=uiLayout)\n",
    "    \n",
    "#register handle event for each keystroke\n",
    "def on_button_clicked(b):\n",
    "    print('K')\n",
    "    \n",
    "button3.on_click(on_button_clicked)\n",
    "buttonL.on_click(on_button_clicked)\n",
    "button2.on_click(on_button_clicked)\n",
    "button1.on_click(on_button_clicked)\n",
    "buttonAddPas.on_click(on_button_clicked)\n",
    "buttonOK.on_click(on_button_clicked)\n",
    "\n",
    "\n",
    "HBox([boxOperatorValue, form])"
   ]
  },
  {
   "cell_type": "code",
   "execution_count": null,
   "metadata": {
    "collapsed": true
   },
   "outputs": [],
   "source": [
    "#display number of operators and task completion time\n"
   ]
  }
 ],
 "metadata": {
  "kernelspec": {
   "display_name": "Python 3",
   "language": "python",
   "name": "python3"
  },
  "language_info": {
   "codemirror_mode": {
    "name": "ipython",
    "version": 3
   },
   "file_extension": ".py",
   "mimetype": "text/x-python",
   "name": "python",
   "nbconvert_exporter": "python",
   "pygments_lexer": "ipython3",
   "version": "3.6.0"
  }
 },
 "nbformat": 4,
 "nbformat_minor": 2
}
